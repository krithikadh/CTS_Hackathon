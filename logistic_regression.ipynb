{
 "cells": [
  {
   "cell_type": "code",
   "execution_count": 9,
   "id": "2210c827",
   "metadata": {},
   "outputs": [
    {
     "name": "stdout",
     "output_type": "stream",
     "text": [
      "Requirement already satisfied: pandas in c:\\users\\kaarunyaa\\appdata\\local\\programs\\python\\python313\\lib\\site-packages (2.3.2)\n",
      "Note: you may need to restart the kernel to use updated packages.\n"
     ]
    },
    {
     "name": "stderr",
     "output_type": "stream",
     "text": [
      "ERROR: Could not find a version that satisfies the requirement as (from versions: none)\n",
      "ERROR: No matching distribution found for as\n"
     ]
    }
   ],
   "source": [
    "pip install pandas as pd"
   ]
  },
  {
   "cell_type": "code",
   "execution_count": 10,
   "id": "5a95af52",
   "metadata": {},
   "outputs": [],
   "source": [
    "from sklearn.model_selection import train_test_split\n",
    "from sklearn.preprocessing import LabelEncoder, StandardScaler\n",
    "from sklearn.linear_model import LogisticRegression\n",
    "from sklearn.metrics import accuracy_score, classification_report, confusion_matrix"
   ]
  },
  {
   "cell_type": "code",
   "execution_count": 16,
   "id": "369b28dd",
   "metadata": {},
   "outputs": [
    {
     "name": "stdout",
     "output_type": "stream",
     "text": [
      "Dataset shape: (25000, 17)\n",
      "First 5 rows:\n",
      "        age  time_in_hospital  n_lab_procedures  n_procedures  n_medications  \\\n",
      "0  [70-80)                 8                72             1             18   \n",
      "1  [70-80)                 3                34             2             13   \n",
      "2  [50-60)                 5                45             0             18   \n",
      "3  [70-80)                 2                36             0             12   \n",
      "4  [60-70)                 1                42             0              7   \n",
      "\n",
      "   n_outpatient  n_inpatient  n_emergency medical_specialty       diag_1  \\\n",
      "0             2            0            0           Missing  Circulatory   \n",
      "1             0            0            0             Other        Other   \n",
      "2             0            0            0           Missing  Circulatory   \n",
      "3             1            0            0           Missing  Circulatory   \n",
      "4             0            0            0  InternalMedicine        Other   \n",
      "\n",
      "        diag_2       diag_3 glucose_test A1Ctest change diabetes_med  \\\n",
      "0  Respiratory        Other           no      no     no          yes   \n",
      "1        Other        Other           no      no     no          yes   \n",
      "2  Circulatory  Circulatory           no      no    yes          yes   \n",
      "3        Other     Diabetes           no      no    yes          yes   \n",
      "4  Circulatory  Respiratory           no      no     no          yes   \n",
      "\n",
      "  readmitted  \n",
      "0         no  \n",
      "1         no  \n",
      "2        yes  \n",
      "3        yes  \n",
      "4         no  \n"
     ]
    }
   ],
   "source": [
    "import pandas as pd\n",
    "\n",
    "# Use raw string to avoid escape sequence error\n",
    "df = pd.read_csv(r\"C:\\hospital_readmissions.csv\")\n",
    "\n",
    "print(\"Dataset shape:\", df.shape)\n",
    "print(\"First 5 rows:\\n\", df.head())"
   ]
  },
  {
   "cell_type": "code",
   "execution_count": 17,
   "id": "8462884f",
   "metadata": {},
   "outputs": [],
   "source": [
    "categorical_cols = df.select_dtypes(include=['object']).columns\n",
    "label_encoders = {}\n",
    "\n",
    "for col in categorical_cols:\n",
    "    le = LabelEncoder()\n",
    "    df[col] = le.fit_transform(df[col].astype(str))\n",
    "    label_encoders[col] = le"
   ]
  },
  {
   "cell_type": "code",
   "execution_count": 18,
   "id": "318369a6",
   "metadata": {},
   "outputs": [],
   "source": [
    "X = df.drop(\"readmitted\", axis=1)   # independent variables\n",
    "y = df[\"readmitted\"] "
   ]
  },
  {
   "cell_type": "code",
   "execution_count": null,
   "id": "9c973f8c",
   "metadata": {},
   "outputs": [],
   "source": [
    "scaler = StandardScaler()\n",
    "X_scaled = scaler.fit_transform(X)\n"
   ]
  }
 ],
 "metadata": {
  "kernelspec": {
   "display_name": "Python 3",
   "language": "python",
   "name": "python3"
  },
  "language_info": {
   "codemirror_mode": {
    "name": "ipython",
    "version": 3
   },
   "file_extension": ".py",
   "mimetype": "text/x-python",
   "name": "python",
   "nbconvert_exporter": "python",
   "pygments_lexer": "ipython3",
   "version": "3.13.2"
  }
 },
 "nbformat": 4,
 "nbformat_minor": 5
}
