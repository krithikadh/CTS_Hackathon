{
 "cells": [
  {
   "cell_type": "code",
   "execution_count": 4,
   "id": "5ec5c980",
   "metadata": {},
   "outputs": [],
   "source": [
    "# Import required libraries\n",
    "import numpy as np\n",
    "from sklearn.metrics import accuracy_score, classification_report, confusion_matrix\n",
    "\n",
    "# Assuming you have already trained models:\n",
    "# mlp_model (from MLP.ipynb)\n",
    "# rf_model (from decision_tree.ipynb)\n",
    "\n",
    "# Scaled validation features\n",
    "# X_val_scaled = scaled/encoded features used for validation\n"
   ]
  },
  {
   "cell_type": "code",
   "execution_count": 9,
   "id": "59b62133",
   "metadata": {},
   "outputs": [
    {
     "name": "stderr",
     "output_type": "stream",
     "text": [
      "WARNING:absl:Compiled the loaded model, but the compiled metrics have yet to be built. `model.compile_metrics` will be empty until you train or evaluate the model.\n"
     ]
    }
   ],
   "source": [
    "from tensorflow.keras.models import load_model\n",
    "\n",
    "# Load trained MLP\n",
    "mlp_model = load_model(\"mlp_model.h5\")\n"
   ]
  }
 ],
 "metadata": {
  "kernelspec": {
   "display_name": "Python 3",
   "language": "python",
   "name": "python3"
  },
  "language_info": {
   "codemirror_mode": {
    "name": "ipython",
    "version": 3
   },
   "file_extension": ".py",
   "mimetype": "text/x-python",
   "name": "python",
   "nbconvert_exporter": "python",
   "pygments_lexer": "ipython3",
   "version": "3.12.1"
  }
 },
 "nbformat": 4,
 "nbformat_minor": 5
}
