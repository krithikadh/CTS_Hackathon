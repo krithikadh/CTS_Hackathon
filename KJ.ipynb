{
 "cells": [
  {
   "cell_type": "code",
   "execution_count": 1,
   "id": "1e57926e",
   "metadata": {},
   "outputs": [],
   "source": [
    "import pandas as pd\n",
    "df = pd.read_csv(r\"C:\\Users\\jeni7\\OneDrive\\Documents\\CTS_Hackathon\\dataset\\dataset.csv\")"
   ]
  },
  {
   "cell_type": "code",
   "execution_count": 2,
   "id": "60ba76ef",
   "metadata": {},
   "outputs": [
    {
     "data": {
      "text/html": [
       "<div>\n",
       "<style scoped>\n",
       "    .dataframe tbody tr th:only-of-type {\n",
       "        vertical-align: middle;\n",
       "    }\n",
       "\n",
       "    .dataframe tbody tr th {\n",
       "        vertical-align: top;\n",
       "    }\n",
       "\n",
       "    .dataframe thead th {\n",
       "        text-align: right;\n",
       "    }\n",
       "</style>\n",
       "<table border=\"1\" class=\"dataframe\">\n",
       "  <thead>\n",
       "    <tr style=\"text-align: right;\">\n",
       "      <th></th>\n",
       "      <th>age</th>\n",
       "      <th>time_in_hospital</th>\n",
       "      <th>n_lab_procedures</th>\n",
       "      <th>n_procedures</th>\n",
       "      <th>n_medications</th>\n",
       "      <th>n_outpatient</th>\n",
       "      <th>n_inpatient</th>\n",
       "      <th>n_emergency</th>\n",
       "      <th>medical_specialty</th>\n",
       "      <th>diag_1</th>\n",
       "      <th>diag_2</th>\n",
       "      <th>diag_3</th>\n",
       "      <th>glucose_test</th>\n",
       "      <th>A1Ctest</th>\n",
       "      <th>change</th>\n",
       "      <th>diabetes_med</th>\n",
       "      <th>readmitted</th>\n",
       "    </tr>\n",
       "  </thead>\n",
       "  <tbody>\n",
       "    <tr>\n",
       "      <th>0</th>\n",
       "      <td>[70-80)</td>\n",
       "      <td>8</td>\n",
       "      <td>72</td>\n",
       "      <td>1</td>\n",
       "      <td>18</td>\n",
       "      <td>2</td>\n",
       "      <td>0</td>\n",
       "      <td>0</td>\n",
       "      <td>Missing</td>\n",
       "      <td>Circulatory</td>\n",
       "      <td>Respiratory</td>\n",
       "      <td>Other</td>\n",
       "      <td>no</td>\n",
       "      <td>no</td>\n",
       "      <td>no</td>\n",
       "      <td>yes</td>\n",
       "      <td>no</td>\n",
       "    </tr>\n",
       "    <tr>\n",
       "      <th>1</th>\n",
       "      <td>[70-80)</td>\n",
       "      <td>3</td>\n",
       "      <td>34</td>\n",
       "      <td>2</td>\n",
       "      <td>13</td>\n",
       "      <td>0</td>\n",
       "      <td>0</td>\n",
       "      <td>0</td>\n",
       "      <td>Other</td>\n",
       "      <td>Other</td>\n",
       "      <td>Other</td>\n",
       "      <td>Other</td>\n",
       "      <td>no</td>\n",
       "      <td>no</td>\n",
       "      <td>no</td>\n",
       "      <td>yes</td>\n",
       "      <td>no</td>\n",
       "    </tr>\n",
       "    <tr>\n",
       "      <th>2</th>\n",
       "      <td>[50-60)</td>\n",
       "      <td>5</td>\n",
       "      <td>45</td>\n",
       "      <td>0</td>\n",
       "      <td>18</td>\n",
       "      <td>0</td>\n",
       "      <td>0</td>\n",
       "      <td>0</td>\n",
       "      <td>Missing</td>\n",
       "      <td>Circulatory</td>\n",
       "      <td>Circulatory</td>\n",
       "      <td>Circulatory</td>\n",
       "      <td>no</td>\n",
       "      <td>no</td>\n",
       "      <td>yes</td>\n",
       "      <td>yes</td>\n",
       "      <td>yes</td>\n",
       "    </tr>\n",
       "    <tr>\n",
       "      <th>3</th>\n",
       "      <td>[70-80)</td>\n",
       "      <td>2</td>\n",
       "      <td>36</td>\n",
       "      <td>0</td>\n",
       "      <td>12</td>\n",
       "      <td>1</td>\n",
       "      <td>0</td>\n",
       "      <td>0</td>\n",
       "      <td>Missing</td>\n",
       "      <td>Circulatory</td>\n",
       "      <td>Other</td>\n",
       "      <td>Diabetes</td>\n",
       "      <td>no</td>\n",
       "      <td>no</td>\n",
       "      <td>yes</td>\n",
       "      <td>yes</td>\n",
       "      <td>yes</td>\n",
       "    </tr>\n",
       "    <tr>\n",
       "      <th>4</th>\n",
       "      <td>[60-70)</td>\n",
       "      <td>1</td>\n",
       "      <td>42</td>\n",
       "      <td>0</td>\n",
       "      <td>7</td>\n",
       "      <td>0</td>\n",
       "      <td>0</td>\n",
       "      <td>0</td>\n",
       "      <td>InternalMedicine</td>\n",
       "      <td>Other</td>\n",
       "      <td>Circulatory</td>\n",
       "      <td>Respiratory</td>\n",
       "      <td>no</td>\n",
       "      <td>no</td>\n",
       "      <td>no</td>\n",
       "      <td>yes</td>\n",
       "      <td>no</td>\n",
       "    </tr>\n",
       "  </tbody>\n",
       "</table>\n",
       "</div>"
      ],
      "text/plain": [
       "       age  time_in_hospital  n_lab_procedures  n_procedures  n_medications  \\\n",
       "0  [70-80)                 8                72             1             18   \n",
       "1  [70-80)                 3                34             2             13   \n",
       "2  [50-60)                 5                45             0             18   \n",
       "3  [70-80)                 2                36             0             12   \n",
       "4  [60-70)                 1                42             0              7   \n",
       "\n",
       "   n_outpatient  n_inpatient  n_emergency medical_specialty       diag_1  \\\n",
       "0             2            0            0           Missing  Circulatory   \n",
       "1             0            0            0             Other        Other   \n",
       "2             0            0            0           Missing  Circulatory   \n",
       "3             1            0            0           Missing  Circulatory   \n",
       "4             0            0            0  InternalMedicine        Other   \n",
       "\n",
       "        diag_2       diag_3 glucose_test A1Ctest change diabetes_med  \\\n",
       "0  Respiratory        Other           no      no     no          yes   \n",
       "1        Other        Other           no      no     no          yes   \n",
       "2  Circulatory  Circulatory           no      no    yes          yes   \n",
       "3        Other     Diabetes           no      no    yes          yes   \n",
       "4  Circulatory  Respiratory           no      no     no          yes   \n",
       "\n",
       "  readmitted  \n",
       "0         no  \n",
       "1         no  \n",
       "2        yes  \n",
       "3        yes  \n",
       "4         no  "
      ]
     },
     "execution_count": 2,
     "metadata": {},
     "output_type": "execute_result"
    }
   ],
   "source": [
    "df.head()"
   ]
  },
  {
   "cell_type": "code",
   "execution_count": 3,
   "id": "aa7c15f8",
   "metadata": {},
   "outputs": [
    {
     "name": "stdout",
     "output_type": "stream",
     "text": [
      "readmitted\n",
      "no     13246\n",
      "yes    11754\n",
      "Name: count, dtype: int64\n"
     ]
    }
   ],
   "source": [
    "readmission_counts = df['readmitted'].value_counts()\n",
    "print(readmission_counts)"
   ]
  },
  {
   "cell_type": "code",
   "execution_count": 4,
   "id": "70fc965b",
   "metadata": {},
   "outputs": [
    {
     "name": "stdout",
     "output_type": "stream",
     "text": [
      "readmitted\n",
      "no     52.984\n",
      "yes    47.016\n",
      "Name: count, dtype: float64\n"
     ]
    }
   ],
   "source": [
    "readmission_percent = readmission_counts / readmission_counts.sum() * 100\n",
    "print(readmission_percent)"
   ]
  },
  {
   "cell_type": "code",
   "execution_count": 5,
   "id": "7f2efd54",
   "metadata": {},
   "outputs": [
    {
     "name": "stdout",
     "output_type": "stream",
     "text": [
      "Column: medical_specialty\n",
      "-------------------------\n",
      "                        Count  Percentage\n",
      "medical_specialty                        \n",
      "Missing                 12382       49.53\n",
      "InternalMedicine         3565       14.26\n",
      "Other                    2664       10.66\n",
      "Emergency/Trauma         1885        7.54\n",
      "Family/GeneralPractice   1882        7.53\n",
      "Cardiology               1409        5.64\n",
      "Surgery                  1213        4.85\n",
      "\n",
      "\n",
      "Column: diag_1\n",
      "--------------\n",
      "                 Count  Percentage\n",
      "diag_1                            \n",
      "Circulatory       7824       31.30\n",
      "Other             6498       25.99\n",
      "Respiratory       3680       14.72\n",
      "Digestive         2329        9.32\n",
      "Diabetes          1747        6.99\n",
      "Injury            1666        6.66\n",
      "Musculoskeletal   1252        5.01\n",
      "Missing              4        0.02\n",
      "\n",
      "\n",
      "Column: diag_2\n",
      "--------------\n",
      "                 Count  Percentage\n",
      "diag_2                            \n",
      "Other             9056       36.22\n",
      "Circulatory       8134       32.54\n",
      "Diabetes          2906       11.62\n",
      "Respiratory       2872       11.49\n",
      "Digestive          973        3.89\n",
      "Injury             591        2.36\n",
      "Musculoskeletal    426        1.70\n",
      "Missing             42        0.17\n",
      "\n",
      "\n",
      "Column: diag_3\n",
      "--------------\n",
      "                 Count  Percentage\n",
      "diag_3                            \n",
      "Other             9107       36.43\n",
      "Circulatory       7686       30.74\n",
      "Diabetes          4261       17.04\n",
      "Respiratory       1915        7.66\n",
      "Digestive          916        3.66\n",
      "Injury             464        1.86\n",
      "Musculoskeletal    455        1.82\n",
      "Missing            196        0.78\n",
      "\n",
      "\n"
     ]
    }
   ],
   "source": [
    "import pandas as pd\n",
    "df = pd.read_csv(r\"C:\\Users\\jeni7\\OneDrive\\Documents\\CTS_Hackathon\\dataset\\dataset.csv\")\n",
    "columns_to_analyze = ['medical_specialty', 'diag_1', 'diag_2', 'diag_3']\n",
    "for col in columns_to_analyze:\n",
    "    print(f\"Column: {col}\")\n",
    "    print(\"-\" * (len(col) + 8))\n",
    "    counts = df[col].astype(str).value_counts(dropna=False)\n",
    "    percentages = df[col].astype(str).value_counts(normalize=True, dropna=False) * 100\n",
    "    desc = pd.DataFrame({\n",
    "        'Count': counts,\n",
    "        'Percentage': percentages.round(2)\n",
    "    })\n",
    "    if col in ['diag_2', 'diag_3']:\n",
    "        print(desc.head(10)) \n",
    "    else:\n",
    "        print(desc)      \n",
    "    print(\"\\n\")\n"
   ]
  },
  {
   "cell_type": "code",
   "execution_count": 6,
   "id": "a6b393bd",
   "metadata": {},
   "outputs": [
    {
     "name": "stdout",
     "output_type": "stream",
     "text": [
      "Column: diag_2\n",
      "--------------\n",
      "                 Count  Percentage\n",
      "diag_2                            \n",
      "Other             9056       36.22\n",
      "Circulatory       8134       32.54\n",
      "Diabetes          2906       11.62\n",
      "Respiratory       2872       11.49\n",
      "Digestive          973        3.89\n",
      "Injury             591        2.36\n",
      "Musculoskeletal    426        1.70\n",
      "Missing             42        0.17\n",
      "\n",
      "\n",
      "Column: diag_3\n",
      "--------------\n",
      "                 Count  Percentage\n",
      "diag_3                            \n",
      "Other             9107       36.43\n",
      "Circulatory       7686       30.74\n",
      "Diabetes          4261       17.04\n",
      "Respiratory       1915        7.66\n",
      "Digestive          916        3.66\n",
      "Injury             464        1.86\n",
      "Musculoskeletal    455        1.82\n",
      "Missing            196        0.78\n",
      "\n",
      "\n"
     ]
    }
   ],
   "source": [
    "import pandas as pd\n",
    "df = pd.read_csv(r\"C:\\Users\\jeni7\\OneDrive\\Documents\\CTS_Hackathon\\dataset\\dataset.csv\")\n",
    "columns_to_analyze = ['diag_2', 'diag_3']\n",
    "for col in columns_to_analyze:\n",
    "    print(f\"Column: {col}\")\n",
    "    print(\"-\" * (len(col) + 8))\n",
    "    counts = df[col].astype(str).value_counts(dropna=False)\n",
    "    percentages = df[col].astype(str).value_counts(normalize=True, dropna=False) * 100\n",
    "    desc = pd.DataFrame({\n",
    "        'Count': counts,\n",
    "        'Percentage': percentages.round(2)\n",
    "    })\n",
    "    print(desc.head(10))\n",
    "    print(\"\\n\")\n"
   ]
  },
  {
   "cell_type": "code",
   "execution_count": 7,
   "id": "b510259e",
   "metadata": {},
   "outputs": [
    {
     "name": "stdout",
     "output_type": "stream",
     "text": [
      "Numeric columns: "
     ]
    },
    {
     "name": "stdout",
     "output_type": "stream",
     "text": [
      "['time_in_hospital', 'n_lab_procedures', 'n_procedures', 'n_medications', 'n_outpatient', 'n_inpatient', 'n_emergency']\n",
      "Categorical columns: ['medical_specialty', 'diag_1', 'diag_2', 'diag_3', 'glucose_test', 'A1Ctest', 'change', 'diabetes_med', 'readmitted']\n",
      "Missing values handled successfully.\n"
     ]
    }
   ],
   "source": [
    "numeric_cols = df.select_dtypes(include=['int64', 'float64']).columns.tolist()\n",
    "categorical_cols = df.select_dtypes(include=['object', 'category']).columns.tolist()\n",
    "if 'age' in categorical_cols:\n",
    "    categorical_cols.remove('age')\n",
    "print(\"Numeric columns:\", numeric_cols)\n",
    "print(\"Categorical columns:\", categorical_cols)\n",
    "for col in numeric_cols:\n",
    "    df[col] = df[col].fillna(df[col].median())\n",
    "for col in categorical_cols:\n",
    "    df[col] = df[col].fillna('Unknown')\n",
    "print(\"Missing values handled successfully.\")"
   ]
  },
  {
   "cell_type": "code",
   "execution_count": 8,
   "id": "acb42d8d",
   "metadata": {},
   "outputs": [],
   "source": [
    "from sklearn.preprocessing import LabelEncoder\n",
    "le = LabelEncoder()\n",
    "for col in categorical_cols:\n",
    "    if df[col].nunique() > 1:\n",
    "        df[col] = le.fit_transform(df[col])\n"
   ]
  },
  {
   "cell_type": "code",
   "execution_count": 9,
   "id": "6e9168f7",
   "metadata": {},
   "outputs": [],
   "source": [
    "df = pd.get_dummies(df, columns=['diag_2', 'diag_3'], drop_first=True)\n"
   ]
  },
  {
   "cell_type": "code",
   "execution_count": 10,
   "id": "200be36c",
   "metadata": {},
   "outputs": [
    {
     "name": "stdout",
     "output_type": "stream",
     "text": [
      "Requirement already satisfied: imbalanced-learn in c:\\users\\jeni7\\appdata\\local\\programs\\python\\python312\\lib\\site-packages (0.14.0)\n",
      "Requirement already satisfied: numpy<3,>=1.25.2 in c:\\users\\jeni7\\appdata\\local\\programs\\python\\python312\\lib\\site-packages (from imbalanced-learn) (1.26.4)\n",
      "Requirement already satisfied: scipy<2,>=1.11.4 in c:\\users\\jeni7\\appdata\\local\\programs\\python\\python312\\lib\\site-packages (from imbalanced-learn) (1.15.3)\n",
      "Requirement already satisfied: scikit-learn<2,>=1.4.2 in c:\\users\\jeni7\\appdata\\local\\programs\\python\\python312\\lib\\site-packages (from imbalanced-learn) (1.6.1)\n",
      "Requirement already satisfied: joblib<2,>=1.2.0 in c:\\users\\jeni7\\appdata\\local\\programs\\python\\python312\\lib\\site-packages (from imbalanced-learn) (1.4.2)\n",
      "Requirement already satisfied: threadpoolctl<4,>=2.0.0 in c:\\users\\jeni7\\appdata\\local\\programs\\python\\python312\\lib\\site-packages (from imbalanced-learn) (3.6.0)\n"
     ]
    },
    {
     "name": "stderr",
     "output_type": "stream",
     "text": [
      "\n",
      "[notice] A new release of pip is available: 25.0.1 -> 25.2\n",
      "[notice] To update, run: python.exe -m pip install --upgrade pip\n"
     ]
    }
   ],
   "source": [
    "!pip install imbalanced-learn"
   ]
  },
  {
   "cell_type": "code",
   "execution_count": 11,
   "id": "812e0321",
   "metadata": {},
   "outputs": [],
   "source": [
    "X = df.drop('readmitted', axis=1)\n",
    "y = df['readmitted']\n"
   ]
  },
  {
   "cell_type": "code",
   "execution_count": 12,
   "id": "11109432",
   "metadata": {},
   "outputs": [
    {
     "name": "stdout",
     "output_type": "stream",
     "text": [
      "Non-numeric columns: ['age', 'medical_specialty', 'diag_1', 'glucose_test', 'A1Ctest', 'change', 'diabetes_med', 'diag_2_1', 'diag_2_2', 'diag_2_3', 'diag_2_4', 'diag_2_5', 'diag_2_6', 'diag_2_7', 'diag_3_1', 'diag_3_2', 'diag_3_3', 'diag_3_4', 'diag_3_5', 'diag_3_6', 'diag_3_7']\n"
     ]
    }
   ],
   "source": [
    "non_numeric_cols = X.select_dtypes(exclude=['int64', 'float64']).columns.tolist()\n",
    "print(\"Non-numeric columns:\", non_numeric_cols)"
   ]
  },
  {
   "cell_type": "code",
   "execution_count": 13,
   "id": "2d06b28b",
   "metadata": {},
   "outputs": [],
   "source": [
    "X = pd.get_dummies(X, columns=non_numeric_cols, drop_first=True)"
   ]
  },
  {
   "cell_type": "code",
   "execution_count": 14,
   "id": "35a30c1b",
   "metadata": {},
   "outputs": [
    {
     "name": "stdout",
     "output_type": "stream",
     "text": [
      "bool     38\n",
      "int64     7\n",
      "Name: count, dtype: int64\n"
     ]
    }
   ],
   "source": [
    "print(X.dtypes.value_counts())"
   ]
  },
  {
   "cell_type": "code",
   "execution_count": 15,
   "id": "fbfe3659",
   "metadata": {},
   "outputs": [],
   "source": [
    "from imblearn.over_sampling import SMOTE\n",
    "smote = SMOTE(random_state=42)\n",
    "X_res, y_res = smote.fit_resample(X, y)"
   ]
  },
  {
   "cell_type": "code",
   "execution_count": 16,
   "id": "b9ea80ac",
   "metadata": {},
   "outputs": [],
   "source": [
    "from sklearn.preprocessing import StandardScaler\n",
    "numeric_cols = df.select_dtypes(include=['int64', 'float64']).columns.tolist()\n",
    "if 'readmitted' in numeric_cols:\n",
    "    numeric_cols.remove('readmitted')\n",
    "scaler = StandardScaler()\n",
    "df[numeric_cols] = scaler.fit_transform(df[numeric_cols])"
   ]
  },
  {
   "cell_type": "code",
   "execution_count": 17,
   "id": "769ca470",
   "metadata": {},
   "outputs": [],
   "source": [
    "from sklearn.model_selection import train_test_split\n",
    "X_train, X_test, y_train, y_test = train_test_split(\n",
    "    X_res, y_res, test_size=0.2, random_state=42, stratify=y_res\n",
    ")"
   ]
  },
  {
   "cell_type": "code",
   "execution_count": 18,
   "id": "e368dc05",
   "metadata": {},
   "outputs": [
    {
     "name": "stdout",
     "output_type": "stream",
     "text": [
      "              precision    recall  f1-score   support\n",
      "\n",
      "           0       0.59      0.61      0.60      2650\n",
      "           1       0.60      0.58      0.59      2649\n",
      "\n",
      "    accuracy                           0.60      5299\n",
      "   macro avg       0.60      0.60      0.59      5299\n",
      "weighted avg       0.60      0.60      0.59      5299\n",
      "\n",
      "[[1616 1034]\n",
      " [1112 1537]]\n"
     ]
    }
   ],
   "source": [
    "from sklearn.neural_network import MLPClassifier\n",
    "from sklearn.metrics import classification_report, confusion_matrix\n",
    "mlp = MLPClassifier(hidden_layer_sizes=(64, 32), max_iter=500, random_state=42)\n",
    "mlp.fit(X_train, y_train)\n",
    "y_pred = mlp.predict(X_test)\n",
    "print(classification_report(y_test, y_pred))\n",
    "print(confusion_matrix(y_test, y_pred))"
   ]
  },
  {
   "cell_type": "code",
   "execution_count": 19,
   "id": "ed5e3987",
   "metadata": {},
   "outputs": [],
   "source": [
    "from sklearn.linear_model import LogisticRegression\n",
    "lr = LogisticRegression(class_weight='balanced', random_state=42, max_iter=500)\n",
    "lr.fit(X_train, y_train)\n",
    "y_pred_lr = lr.predict(X_test)"
   ]
  },
  {
   "cell_type": "code",
   "execution_count": 20,
   "id": "bf3e648d",
   "metadata": {},
   "outputs": [],
   "source": [
    "from sklearn.tree import DecisionTreeClassifier\n",
    "dt = DecisionTreeClassifier(random_state=42, class_weight='balanced')\n",
    "dt.fit(X_train, y_train)\n",
    "y_pred_dt = dt.predict(X_test)\n"
   ]
  },
  {
   "cell_type": "code",
   "execution_count": 21,
   "id": "a2d960ad",
   "metadata": {},
   "outputs": [],
   "source": [
    "from sklearn.preprocessing import StandardScaler\n",
    "scaler = StandardScaler()\n",
    "X_train = scaler.fit_transform(X_train)\n",
    "X_test = scaler.transform(X_test)"
   ]
  },
  {
   "cell_type": "code",
   "execution_count": 22,
   "id": "cea21d31",
   "metadata": {},
   "outputs": [],
   "source": [
    "mlp = MLPClassifier(hidden_layer_sizes=(64,32), max_iter=1000,\n",
    "                    learning_rate_init=0.001, random_state=42)"
   ]
  },
  {
   "cell_type": "code",
   "execution_count": 23,
   "id": "4d084b8e",
   "metadata": {},
   "outputs": [],
   "source": [
    "mlp = MLPClassifier(hidden_layer_sizes=(64,32), max_iter=1000,\n",
    "                    early_stopping=True, random_state=42)"
   ]
  },
  {
   "cell_type": "code",
   "execution_count": 24,
   "id": "2a535185",
   "metadata": {},
   "outputs": [],
   "source": [
    "mlp = MLPClassifier(hidden_layer_sizes=(64,32),\n",
    "                    max_iter=1000,\n",
    "                    learning_rate_init=0.001,\n",
    "                    early_stopping=True,\n",
    "                    random_state=42)\n",
    "mlp.fit(X_train, y_train)\n",
    "y_pred_mlp = mlp.predict(X_test)"
   ]
  },
  {
   "cell_type": "code",
   "execution_count": 25,
   "id": "91c3647a",
   "metadata": {},
   "outputs": [],
   "source": [
    "df['medications_per_procedure'] = df['n_medications'] / (df['n_procedures'] + 1)"
   ]
  },
  {
   "cell_type": "code",
   "execution_count": 26,
   "id": "fde179a4",
   "metadata": {},
   "outputs": [],
   "source": [
    "df['time_in_hospital_bin'] = pd.cut(df['time_in_hospital'], bins=[0,3,7,14,30], labels=[0,1,2,3])"
   ]
  },
  {
   "cell_type": "code",
   "execution_count": 27,
   "id": "80b17df8",
   "metadata": {},
   "outputs": [],
   "source": [
    "numeric_df = df.select_dtypes(include=['int64', 'float64'])"
   ]
  },
  {
   "cell_type": "code",
   "execution_count": 28,
   "id": "61478bbd",
   "metadata": {},
   "outputs": [
    {
     "data": {
      "image/png": "[encoded data removed]",
      "text/plain": [
       "<Figure size 640x480 with 2 Axes>"
      ]
     },
     "metadata": {},
     "output_type": "display_data"
    }
   ],
   "source": [
    "import seaborn as sns\n",
    "import matplotlib.pyplot as plt\n",
    "corr = numeric_df.corr()\n",
    "sns.heatmap(corr, annot=True, fmt=\".2f\")\n",
    "plt.show()"
   ]
  },
  {
   "cell_type": "code",
   "execution_count": 29,
   "id": "c8ff1b01",
   "metadata": {},
   "outputs": [],
   "source": [
    "from sklearn.feature_selection import VarianceThreshold\n",
    "selector = VarianceThreshold(threshold=0.01) \n",
    "X_selected = selector.fit_transform(X_res)"
   ]
  },
  {
   "cell_type": "code",
   "execution_count": 30,
   "id": "f261211c",
   "metadata": {},
   "outputs": [],
   "source": [
    "from sklearn.ensemble import RandomForestClassifier\n",
    "rf = RandomForestClassifier(random_state=42)\n",
    "rf.fit(X_res, y_res)\n",
    "importances = rf.feature_importances_\n",
    "top_features = X_res.columns[importances > 0.01] \n",
    "X_selected = X_res[top_features]\n"
   ]
  },
  {
   "cell_type": "code",
   "execution_count": 31,
   "id": "91c36b7e",
   "metadata": {},
   "outputs": [],
   "source": [
    "from sklearn.decomposition import PCA\n",
    "pca = PCA(n_components=0.95)  \n",
    "X_res_pca = pca.fit_transform(X_res)"
   ]
  },
  {
   "cell_type": "code",
   "execution_count": 32,
   "id": "da28d9bc",
   "metadata": {},
   "outputs": [
    {
     "data": {
      "text/plain": [
       "time_in_hospital       0\n",
       "n_lab_procedures       0\n",
       "n_procedures           0\n",
       "n_medications          0\n",
       "n_outpatient           0\n",
       "n_inpatient            0\n",
       "n_emergency            0\n",
       "age_[50-60)            0\n",
       "age_[60-70)            0\n",
       "age_[70-80)            0\n",
       "age_[80-90)            0\n",
       "age_[90-100)           0\n",
       "medical_specialty_1    0\n",
       "medical_specialty_2    0\n",
       "medical_specialty_3    0\n",
       "medical_specialty_4    0\n",
       "medical_specialty_5    0\n",
       "medical_specialty_6    0\n",
       "diag_1_1               0\n",
       "diag_1_2               0\n",
       "diag_1_3               0\n",
       "diag_1_4               0\n",
       "diag_1_5               0\n",
       "diag_1_6               0\n",
       "diag_1_7               0\n",
       "glucose_test_1         0\n",
       "glucose_test_2         0\n",
       "A1Ctest_1              0\n",
       "A1Ctest_2              0\n",
       "change_1               0\n",
       "diabetes_med_1         0\n",
       "diag_2_1_True          0\n",
       "diag_2_2_True          0\n",
       "diag_2_3_True          0\n",
       "diag_2_4_True          0\n",
       "diag_2_5_True          0\n",
       "diag_2_6_True          0\n",
       "diag_2_7_True          0\n",
       "diag_3_1_True          0\n",
       "diag_3_2_True          0\n",
       "diag_3_3_True          0\n",
       "diag_3_4_True          0\n",
       "diag_3_5_True          0\n",
       "diag_3_6_True          0\n",
       "diag_3_7_True          0\n",
       "dtype: int64"
      ]
     },
     "execution_count": 32,
     "metadata": {},
     "output_type": "execute_result"
    }
   ],
   "source": [
    "X_res.isnull().sum()"
   ]
  },
  {
   "cell_type": "code",
   "execution_count": 33,
   "id": "3d457c99",
   "metadata": {},
   "outputs": [
    {
     "data": {
      "image/png": "[encoded data removed]",
      "text/plain": [
       "<Figure size 600x600 with 1 Axes>"
      ]
     },
     "metadata": {},
     "output_type": "display_data"
    }
   ],
   "source": [
    "import matplotlib.pyplot as plt\n",
    "class_counts = y.value_counts()\n",
    "plt.figure(figsize=(6,6))\n",
    "plt.pie(class_counts, labels=class_counts.index, autopct='%1.1f%%', colors=['skyblue', 'lightgreen'])\n",
    "plt.title('Readmission Class Distribution')\n",
    "plt.show()"
   ]
  },
  {
   "cell_type": "code",
   "execution_count": 34,
   "id": "be53cda1",
   "metadata": {},
   "outputs": [
    {
     "data": {
      "image/png": "[encoded data removed]",
      "text/plain": [
       "<Figure size 1000x600 with 1 Axes>"
      ]
     },
     "metadata": {},
     "output_type": "display_data"
    }
   ],
   "source": [
    "import pandas as pd\n",
    "X_train_df = pd.DataFrame(X_train, columns=X_res.columns)  \n",
    "importances = pd.Series(rf.feature_importances_, index=X_train_df.columns)\n",
    "top_features = importances.sort_values(ascending=False).head(10)\n",
    "top_features.plot(kind='bar', figsize=(10,6), color='coral')\n",
    "plt.title('Top 10 Feature Importances')\n",
    "plt.ylabel('Importance')\n",
    "plt.show()"
   ]
  },
  {
   "cell_type": "code",
   "execution_count": 35,
   "id": "1b2ebe7f",
   "metadata": {},
   "outputs": [],
   "source": [
    "from sklearn.metrics import accuracy_score"
   ]
  },
  {
   "cell_type": "code",
   "execution_count": 36,
   "id": "ab743a4c",
   "metadata": {},
   "outputs": [
    {
     "name": "stdout",
     "output_type": "stream",
     "text": [
      "Logistic Regression Accuracy: 0.6194\n",
      "Decision Tree Accuracy: 0.5424\n",
      "MLP Accuracy: 0.6254\n"
     ]
    }
   ],
   "source": [
    "accuracy_lr = accuracy_score(y_test, y_pred_lr)\n",
    "accuracy_dt = accuracy_score(y_test, y_pred_dt)\n",
    "accuracy_mlp = accuracy_score(y_test, y_pred_mlp)\n",
    "print(f\"Logistic Regression Accuracy: {accuracy_lr:.4f}\")\n",
    "print(f\"Decision Tree Accuracy: {accuracy_dt:.4f}\")\n",
    "print(f\"MLP Accuracy: {accuracy_mlp:.4f}\")"
   ]
  },
  {
   "cell_type": "code",
   "execution_count": 37,
   "id": "fccbaa6d",
   "metadata": {},
   "outputs": [
    {
     "name": "stdout",
     "output_type": "stream",
     "text": [
      "Requirement already satisfied: catboost in c:\\users\\jeni7\\appdata\\local\\programs\\python\\python312\\lib\\site-packages (1.2.8)\n",
      "Requirement already satisfied: graphviz in c:\\users\\jeni7\\appdata\\local\\programs\\python\\python312\\lib\\site-packages (from catboost) (0.21)\n",
      "Requirement already satisfied: matplotlib in c:\\users\\jeni7\\appdata\\local\\programs\\python\\python312\\lib\\site-packages (from catboost) (3.10.1)\n",
      "Requirement already satisfied: numpy<3.0,>=1.16.0 in c:\\users\\jeni7\\appdata\\local\\programs\\python\\python312\\lib\\site-packages (from catboost) (1.26.4)\n",
      "Requirement already satisfied: pandas>=0.24 in c:\\users\\jeni7\\appdata\\local\\programs\\python\\python312\\lib\\site-packages (from catboost) (2.3.2)\n",
      "Requirement already satisfied: scipy in c:\\users\\jeni7\\appdata\\local\\programs\\python\\python312\\lib\\site-packages (from catboost) (1.15.3)\n",
      "Requirement already satisfied: plotly in c:\\users\\jeni7\\appdata\\local\\programs\\python\\python312\\lib\\site-packages (from catboost) (6.3.0)\n",
      "Requirement already satisfied: six in c:\\users\\jeni7\\appdata\\local\\programs\\python\\python312\\lib\\site-packages (from catboost) (1.17.0)\n",
      "Requirement already satisfied: python-dateutil>=2.8.2 in c:\\users\\jeni7\\appdata\\local\\programs\\python\\python312\\lib\\site-packages (from pandas>=0.24->catboost) (2.9.0.post0)\n",
      "Requirement already satisfied: pytz>=2020.1 in c:\\users\\jeni7\\appdata\\local\\programs\\python\\python312\\lib\\site-packages (from pandas>=0.24->catboost) (2025.2)\n",
      "Requirement already satisfied: tzdata>=2022.7 in c:\\users\\jeni7\\appdata\\local\\programs\\python\\python312\\lib\\site-packages (from pandas>=0.24->catboost) (2025.1)\n",
      "Requirement already satisfied: contourpy>=1.0.1 in c:\\users\\jeni7\\appdata\\local\\programs\\python\\python312\\lib\\site-packages (from matplotlib->catboost) (1.3.1)\n",
      "Requirement already satisfied: cycler>=0.10 in c:\\users\\jeni7\\appdata\\local\\programs\\python\\python312\\lib\\site-packages (from matplotlib->catboost) (0.12.1)\n",
      "Requirement already satisfied: fonttools>=4.22.0 in c:\\users\\jeni7\\appdata\\local\\programs\\python\\python312\\lib\\site-packages (from matplotlib->catboost) (4.56.0)\n",
      "Requirement already satisfied: kiwisolver>=1.3.1 in c:\\users\\jeni7\\appdata\\local\\programs\\python\\python312\\lib\\site-packages (from matplotlib->catboost) (1.4.8)\n",
      "Requirement already satisfied: packaging>=20.0 in c:\\users\\jeni7\\appdata\\local\\programs\\python\\python312\\lib\\site-packages (from matplotlib->catboost) (24.2)\n",
      "Requirement already satisfied: pillow>=8 in c:\\users\\jeni7\\appdata\\local\\programs\\python\\python312\\lib\\site-packages (from matplotlib->catboost) (11.1.0)\n",
      "Requirement already satisfied: pyparsing>=2.3.1 in c:\\users\\jeni7\\appdata\\local\\programs\\python\\python312\\lib\\site-packages (from matplotlib->catboost) (3.2.3)\n",
      "Requirement already satisfied: narwhals>=1.15.1 in c:\\users\\jeni7\\appdata\\local\\programs\\python\\python312\\lib\\site-packages (from plotly->catboost) (2.4.0)\n",
      "Note: you may need to restart the kernel to use updated packages.\n"
     ]
    },
    {
     "name": "stderr",
     "output_type": "stream",
     "text": [
      "\n",
      "[notice] A new release of pip is available: 25.0.1 -> 25.2\n",
      "[notice] To update, run: python.exe -m pip install --upgrade pip\n"
     ]
    }
   ],
   "source": [
    "pip install catboost"
   ]
  },
  {
   "cell_type": "code",
   "execution_count": 38,
   "id": "ed877ebd",
   "metadata": {},
   "outputs": [],
   "source": [
    "from catboost import CatBoostClassifier, Pool\n",
    "X = df.drop('readmitted', axis=1)\n",
    "y = df['readmitted']\n",
    "categorical_cols = X.select_dtypes(include=['object', 'category']).columns.tolist()\n",
    "from sklearn.model_selection import train_test_split\n",
    "X_train, X_test, y_train, y_test = train_test_split(X, y, test_size=0.4, random_state=42, stratify=y)\n"
   ]
  },
  {
   "cell_type": "code",
   "execution_count": 39,
   "id": "f85bc18d",
   "metadata": {},
   "outputs": [],
   "source": [
    "for col in categorical_cols:\n",
    "    X_train[col] = X_train[col].astype('category')\n",
    "    X_test[col] = X_test[col].astype('category')\n"
   ]
  },
  {
   "cell_type": "code",
   "execution_count": 40,
   "id": "87459516",
   "metadata": {},
   "outputs": [],
   "source": [
    "cat_features_indices = [X_train.columns.get_loc(col) for col in categorical_cols]"
   ]
  },
  {
   "cell_type": "code",
   "execution_count": 41,
   "id": "a9f96fb0",
   "metadata": {},
   "outputs": [
    {
     "name": "stdout",
     "output_type": "stream",
     "text": [
      "9127 0\n"
     ]
    }
   ],
   "source": [
    "print(X_train.isnull().sum().sum(), y_train.isnull().sum())"
   ]
  },
  {
   "cell_type": "code",
   "execution_count": 42,
   "id": "d3cad385",
   "metadata": {},
   "outputs": [],
   "source": [
    "for col in categorical_cols:\n",
    "    X_train[col] = X_train[col].astype(str)\n",
    "    X_test[col] = X_test[col].astype(str)\n",
    "    X_train[col] = X_train[col].fillna('Unknown')\n",
    "    X_test[col] = X_test[col].fillna('Unknown')\n",
    "    X_train[col] = X_train[col].astype('category')\n",
    "    X_test[col] = X_test[col].astype('category')"
   ]
  },
  {
   "cell_type": "code",
   "execution_count": 43,
   "id": "8cb834b6",
   "metadata": {},
   "outputs": [],
   "source": [
    "cat_features_indices = [X_train.columns.get_loc(col) for col in categorical_cols]"
   ]
  },
  {
   "cell_type": "code",
   "execution_count": null,
   "id": "298d52eb",
   "metadata": {},
   "outputs": [
    {
     "name": "stdout",
     "output_type": "stream",
     "text": [
      "0:\tlearn: 0.5085058\ttest: 0.5072682\tbest: 0.5072682 (0)\ttotal: 285ms\tremaining: 2m 22s\n",
      "Stopped by overfitting detector  (50 iterations wait)\n",
      "\n",
      "bestTest = 0.5354218583\n",
      "bestIteration = 3\n",
      "\n",
      "Shrink model to first 4 iterations.\n"
     ]
    },
    {
     "data": {
      "text/plain": [
       "<catboost.core.CatBoostClassifier at 0x19fdc63c4a0>"
      ]
     },
     "execution_count": 44,
     "metadata": {},
     "output_type": "execute_result"
    }
   ],
   "source": [
    "from catboost import CatBoostClassifier\n",
    "cat_model = CatBoostClassifier(\n",
    "    iterations=500,\n",
    "    learning_rate=0.05,\n",
    "    depth=6,\n",
    "    eval_metric='F1',\n",
    "    random_seed=42,\n",
    "    verbose=100\n",
    ")\n",
    "\n",
    "cat_model.fit(\n",
    "    X_train, y_train,\n",
    "    cat_features=cat_features_indices,\n",
    "    eval_set=(X_test, y_test),\n",
    "    early_stopping_rounds=50,\n",
    "    use_best_model=True\n",
    ")\n"
   ]
  },
  {
   "cell_type": "code",
   "execution_count": 45,
   "id": "eca93560",
   "metadata": {},
   "outputs": [
    {
     "ename": "NameError",
     "evalue": "name 'class_weights' is not defined",
     "output_type": "error",
     "traceback": [
      "\u001b[31m---------------------------------------------------------------------------\u001b[39m",
      "\u001b[31mNameError\u001b[39m                                 Traceback (most recent call last)",
      "\u001b[36mCell\u001b[39m\u001b[36m \u001b[39m\u001b[32mIn[45]\u001b[39m\u001b[32m, line 8\u001b[39m\n\u001b[32m      2\u001b[39m train_pool = Pool(data=X_train, label=y_train, cat_features=cat_features_indices)\n\u001b[32m      3\u001b[39m test_pool = Pool(data=X_test, label=y_test, cat_features=cat_features_indices)\n\u001b[32m      5\u001b[39m cat_model = CatBoostClassifier(\n\u001b[32m      6\u001b[39m     iterations=\u001b[32m500\u001b[39m,\n\u001b[32m      7\u001b[39m     learning_rate=\u001b[32m0.05\u001b[39m,\n\u001b[32m----> \u001b[39m\u001b[32m8\u001b[39m     class_weights=\u001b[38;5;28mlist\u001b[39m(\u001b[43mclass_weights\u001b[49m.values()),\n\u001b[32m      9\u001b[39m     verbose=\u001b[32m100\u001b[39m,\n\u001b[32m     10\u001b[39m     random_seed=\u001b[32m42\u001b[39m\n\u001b[32m     11\u001b[39m )\n\u001b[32m     13\u001b[39m grid = {\u001b[33m'\u001b[39m\u001b[33mdepth\u001b[39m\u001b[33m'\u001b[39m: [\u001b[32m4\u001b[39m, \u001b[32m6\u001b[39m, \u001b[32m8\u001b[39m], \u001b[33m'\u001b[39m\u001b[33ml2_leaf_reg\u001b[39m\u001b[33m'\u001b[39m: [\u001b[32m3\u001b[39m, \u001b[32m5\u001b[39m, \u001b[32m7\u001b[39m]}\n\u001b[32m     15\u001b[39m cat_model.grid_search(\n\u001b[32m     16\u001b[39m     param_grid=grid,\n\u001b[32m     17\u001b[39m     X=train_pool,     \n\u001b[32m     18\u001b[39m     cv=\u001b[32m3\u001b[39m\n\u001b[32m     19\u001b[39m )\n",
      "\u001b[31mNameError\u001b[39m: name 'class_weights' is not defined"
     ]
    }
   ],
   "source": [
    "from catboost import CatBoostClassifier, Pool\n",
    "train_pool = Pool(data=X_train, label=y_train, cat_features=cat_features_indices)\n",
    "test_pool = Pool(data=X_test, label=y_test, cat_features=cat_features_indices)\n",
    "\n",
    "cat_model = CatBoostClassifier(\n",
    "    iterations=500,\n",
    "    learning_rate=0.05,\n",
    "    class_weights=list(class_weights.values()),\n",
    "    verbose=100,\n",
    "    random_seed=42\n",
    ")\n",
    "\n",
    "grid = {'depth': [4, 6, 8], 'l2_leaf_reg': [3, 5, 7]}\n",
    "\n",
    "cat_model.grid_search(\n",
    "    param_grid=grid,\n",
    "    X=train_pool,     \n",
    "    cv=3\n",
    ")\n"
   ]
  },
  {
   "cell_type": "code",
   "execution_count": null,
   "id": "865501e4",
   "metadata": {},
   "outputs": [
    {
     "name": "stdout",
     "output_type": "stream",
     "text": [
      "Accuracy: 0.4715\n",
      "Precision: 0.4708\n",
      "Recall: 1.0\n",
      "F1 Score: 0.6402\n",
      "\n",
      "Classification Report:\n",
      "               precision    recall  f1-score   support\n",
      "\n",
      "           0       1.00      0.00      0.00      5298\n",
      "           1       0.47      1.00      0.64      4702\n",
      "\n",
      "    accuracy                           0.47     10000\n",
      "   macro avg       0.74      0.50      0.32     10000\n",
      "weighted avg       0.75      0.47      0.30     10000\n",
      "\n"
     ]
    }
   ],
   "source": [
    "from sklearn.metrics import accuracy_score, precision_score, recall_score, f1_score, classification_report\n",
    "y_pred_cat = cat_model.predict(X_test)\n",
    "accuracy = accuracy_score(y_test, y_pred_cat)\n",
    "print(\"Accuracy:\", round(accuracy, 4))\n",
    "\n",
    "precision = precision_score(y_test, y_pred_cat, average='binary', pos_label=1)\n",
    "print(\"Precision:\", round(precision, 4))\n",
    "\n",
    "recall = recall_score(y_test, y_pred_cat, average='binary', pos_label=1)\n",
    "print(\"Recall:\", round(recall, 4))\n",
    "\n",
    "f1 = f1_score(y_test, y_pred_cat, average='binary', pos_label=1)\n",
    "print(\"F1 Score:\", round(f1, 4))\n",
    "\n",
    "print(\"\\nClassification Report:\\n\", classification_report(y_test, y_pred_cat))\n"
   ]
  }
 ],
 "metadata": {
  "kernelspec": {
   "display_name": "Python 3",
   "language": "python",
   "name": "python3"
  },
  "language_info": {
   "codemirror_mode": {
    "name": "ipython",
    "version": 3
   },
   "file_extension": ".py",
   "mimetype": "text/x-python",
   "name": "python",
   "nbconvert_exporter": "python",
   "pygments_lexer": "ipython3",
   "version": "3.12.1"
  }
 },
 "nbformat": 4,
 "nbformat_minor": 5
}
